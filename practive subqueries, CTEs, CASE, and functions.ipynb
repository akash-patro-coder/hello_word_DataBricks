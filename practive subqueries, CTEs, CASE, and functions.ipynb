{
 "cells": [
  {
   "cell_type": "code",
   "execution_count": 0,
   "metadata": {
    "application/vnd.databricks.v1+cell": {
     "cellMetadata": {
      "byteLimit": 2048000,
      "implicitDf": true,
      "rowLimit": 10000
     },
     "inputWidgets": {},
     "nuid": "8e80dd42-f771-4aa8-8977-cb69e70ad59c",
     "showTitle": false,
     "tableResultSettingsMap": {},
     "title": ""
    }
   },
   "outputs": [],
   "source": [
    "%sql\n",
    "\n",
    "SELECT * \n",
    "FROM customers"
   ]
  },
  {
   "cell_type": "code",
   "execution_count": 0,
   "metadata": {
    "application/vnd.databricks.v1+cell": {
     "cellMetadata": {
      "byteLimit": 2048000,
      "implicitDf": true,
      "rowLimit": 10000
     },
     "inputWidgets": {},
     "nuid": "f778b3f9-7e5e-4924-97b7-2cbba728d505",
     "showTitle": false,
     "tableResultSettingsMap": {},
     "title": ""
    }
   },
   "outputs": [],
   "source": [
    "%sql\n",
    "\n",
    "SELECT * \n",
    "FROM orders"
   ]
  },
  {
   "cell_type": "code",
   "execution_count": 0,
   "metadata": {
    "application/vnd.databricks.v1+cell": {
     "cellMetadata": {
      "byteLimit": 2048000,
      "implicitDf": true,
      "rowLimit": 10000
     },
     "inputWidgets": {},
     "nuid": "6b43fdd3-d52a-47e5-ae0d-b019e80a7746",
     "showTitle": false,
     "tableResultSettingsMap": {},
     "title": ""
    }
   },
   "outputs": [],
   "source": [
    "%sql\n",
    "\n",
    "SELECT * \n",
    "FROM order_details"
   ]
  },
  {
   "cell_type": "code",
   "execution_count": 0,
   "metadata": {
    "application/vnd.databricks.v1+cell": {
     "cellMetadata": {
      "byteLimit": 2048000,
      "implicitDf": true,
      "rowLimit": 10000
     },
     "inputWidgets": {},
     "nuid": "2c5755d9-154a-47f4-852b-5ce12d8e41da",
     "showTitle": false,
     "tableResultSettingsMap": {},
     "title": ""
    }
   },
   "outputs": [],
   "source": [
    "%sql\n",
    "\n",
    "SELECT \n",
    "    CONCAT(c.first_name, ' ', c.last_name) AS customer_name,\n",
    "    od.product_name AS product,\n",
    "    c.city AS region\n",
    "FROM customers c\n",
    "INNER JOIN orders o \n",
    "    ON c.customer_id = o.customer_id\n",
    "INNER JOIN order_details od \n",
    "    ON o.order_id = od.order_id;\n"
   ]
  },
  {
   "cell_type": "code",
   "execution_count": 0,
   "metadata": {
    "application/vnd.databricks.v1+cell": {
     "cellMetadata": {
      "byteLimit": 2048000,
      "implicitDf": true,
      "rowLimit": 10000
     },
     "inputWidgets": {},
     "nuid": "1521a9e8-cf87-4a07-91b2-4d568b8f9ee2",
     "showTitle": false,
     "tableResultSettingsMap": {},
     "title": ""
    }
   },
   "outputs": [],
   "source": [
    "%sql\n",
    "\n",
    "--Count distinct products per customer\n",
    "\n",
    "SELECT \n",
    "    CONCAT(c.first_name, ' ', c.last_name) AS customer_name,\n",
    "    COUNT(DISTINCT od.product_name) AS total_products_purchased\n",
    "FROM customers c\n",
    "INNER JOIN orders o \n",
    "    ON c.customer_id = o.customer_id\n",
    "INNER JOIN order_details od \n",
    "    ON o.order_id = od.order_id\n",
    "GROUP BY c.customer_id, c.first_name, c.last_name;\n"
   ]
  },
  {
   "cell_type": "code",
   "execution_count": 0,
   "metadata": {
    "application/vnd.databricks.v1+cell": {
     "cellMetadata": {
      "byteLimit": 2048000,
      "implicitDf": true,
      "rowLimit": 10000
     },
     "inputWidgets": {},
     "nuid": "f2483ba6-7cdd-4fb3-8842-120194e0cc41",
     "showTitle": false,
     "tableResultSettingsMap": {},
     "title": ""
    }
   },
   "outputs": [],
   "source": [
    "%sql\n",
    "\n",
    "--Count total product items per customer\n",
    "\n",
    "SELECT \n",
    "    CONCAT(c.first_name, ' ', c.last_name) AS customer_name,\n",
    "    SUM(od.quantity) AS total_items_purchased\n",
    "FROM customers c\n",
    "INNER JOIN orders o \n",
    "    ON c.customer_id = o.customer_id\n",
    "INNER JOIN order_details od \n",
    "    ON o.order_id = od.order_id\n",
    "GROUP BY c.customer_id, c.first_name, c.last_name;\n"
   ]
  },
  {
   "cell_type": "code",
   "execution_count": 0,
   "metadata": {
    "application/vnd.databricks.v1+cell": {
     "cellMetadata": {
      "byteLimit": 2048000,
      "implicitDf": true,
      "rowLimit": 10000
     },
     "inputWidgets": {},
     "nuid": "1c35a7b8-763c-4a43-b6b9-17d6cbdf6be0",
     "showTitle": false,
     "tableResultSettingsMap": {},
     "title": ""
    }
   },
   "outputs": [],
   "source": [
    "%sql\n",
    "\n",
    "--inserting a new coloum gender\n",
    "\n",
    "ALTER TABLE customers \n",
    "ADD COLUMN gender VARCHAR(10);\n"
   ]
  },
  {
   "cell_type": "code",
   "execution_count": 0,
   "metadata": {
    "application/vnd.databricks.v1+cell": {
     "cellMetadata": {
      "byteLimit": 2048000,
      "implicitDf": true,
      "rowLimit": 10000
     },
     "inputWidgets": {},
     "nuid": "017a588c-91d8-45f0-86b0-dfc1123805df",
     "showTitle": false,
     "tableResultSettingsMap": {},
     "title": ""
    }
   },
   "outputs": [],
   "source": [
    "%sql\n",
    "-- Male customers\n",
    "UPDATE customers SET gender = 'Male' WHERE customer_id IN \n",
    "(1,5,7,9,10,13,15,17,19,20,22,24,26,27,29,31,33,37,38,40,42,44,46,48,50);\n",
    "\n",
    "-- Female customers\n",
    "UPDATE customers SET gender = 'Female' WHERE customer_id IN \n",
    "(2,3,4,6,8,11,12,14,16,18,21,23,25,28,30,32,34,35,36,39,41,43,45,47,49);\n",
    "\n",
    "-- For the extra rows with duplicate IDs at bottom\n",
    "UPDATE customers SET gender = 'Male'   WHERE email = 'akash@example.com';\n",
    "UPDATE customers SET gender = 'Male'   WHERE email = 'ravi@example.com';\n",
    "UPDATE customers SET gender = 'Female' WHERE email = 'neha@example.com';\n",
    "UPDATE customers SET gender = 'Female' WHERE email = 'priya@example.com';\n"
   ]
  },
  {
   "cell_type": "code",
   "execution_count": 0,
   "metadata": {
    "application/vnd.databricks.v1+cell": {
     "cellMetadata": {
      "byteLimit": 2048000,
      "implicitDf": true,
      "rowLimit": 10000
     },
     "inputWidgets": {},
     "nuid": "20527429-7714-4e00-af84-2c4e27282564",
     "showTitle": false,
     "tableResultSettingsMap": {},
     "title": ""
    }
   },
   "outputs": [],
   "source": [
    "%sql\n",
    "\n",
    "--Query female customers with purchases > 1000\n",
    "\n",
    "SELECT DISTINCT \n",
    "    CONCAT(c.first_name, ' ', c.last_name) AS full_name,\n",
    "    o.total_amount\n",
    "FROM customers c\n",
    "JOIN orders o \n",
    "    ON c.customer_id = o.customer_id\n",
    "WHERE o.total_amount > 1000;\n"
   ]
  },
  {
   "cell_type": "code",
   "execution_count": 0,
   "metadata": {
    "application/vnd.databricks.v1+cell": {
     "cellMetadata": {
      "byteLimit": 2048000,
      "implicitDf": true,
      "rowLimit": 10000
     },
     "inputWidgets": {},
     "nuid": "ce454157-bd47-4d43-b018-b53be8312bd4",
     "showTitle": false,
     "tableResultSettingsMap": {},
     "title": ""
    }
   },
   "outputs": [],
   "source": [
    "%sql\n",
    "\n",
    "--cities with the highest total purchase amount\n",
    "\n",
    "SELECT \n",
    "    c.city,\n",
    "    SUM(o.total_amount) AS total_purchase\n",
    "FROM customers c\n",
    "JOIN orders o \n",
    "    ON c.customer_id = o.customer_id\n",
    "GROUP BY c.city\n",
    "ORDER BY total_purchase DESC;\n"
   ]
  }
 ],
 "metadata": {
  "application/vnd.databricks.v1+notebook": {
   "computePreferences": null,
   "dashboards": [],
   "environmentMetadata": {
    "base_environment": "",
    "environment_version": "2"
   },
   "inputWidgetPreferences": null,
   "language": "python",
   "notebookMetadata": {
    "mostRecentlyExecutedCommandWithImplicitDF": {
     "commandId": 7306689610288014,
     "dataframes": [
      "_sqldf"
     ]
    },
    "pythonIndentUnit": 4
   },
   "notebookName": "practive subqueries, CTEs, CASE, and functions",
   "widgets": {}
  },
  "language_info": {
   "name": "python"
  }
 },
 "nbformat": 4,
 "nbformat_minor": 0
}
