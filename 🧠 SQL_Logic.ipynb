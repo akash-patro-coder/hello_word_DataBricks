{
 "cells": [
  {
   "cell_type": "code",
   "execution_count": 0,
   "metadata": {
    "application/vnd.databricks.v1+cell": {
     "cellMetadata": {
      "byteLimit": 2048000,
      "implicitDf": true,
      "rowLimit": 10000
     },
     "inputWidgets": {},
     "nuid": "2a8fd7f4-2e3a-4d11-81f9-185abb158ea1",
     "showTitle": false,
     "tableResultSettingsMap": {},
     "title": ""
    }
   },
   "outputs": [],
   "source": [
    "%sql\n",
    "select *\n",
    "from orders"
   ]
  },
  {
   "cell_type": "code",
   "execution_count": 0,
   "metadata": {
    "application/vnd.databricks.v1+cell": {
     "cellMetadata": {
      "byteLimit": 2048000,
      "implicitDf": true,
      "rowLimit": 10000
     },
     "inputWidgets": {},
     "nuid": "3101a6ec-9a0a-499a-be2c-3cd21ded0702",
     "showTitle": false,
     "tableResultSettingsMap": {},
     "title": ""
    }
   },
   "outputs": [],
   "source": [
    "%sql\n",
    "select *\n",
    "from customers"
   ]
  },
  {
   "cell_type": "code",
   "execution_count": 0,
   "metadata": {
    "application/vnd.databricks.v1+cell": {
     "cellMetadata": {
      "byteLimit": 2048000,
      "implicitDf": true,
      "rowLimit": 10000
     },
     "inputWidgets": {},
     "nuid": "c1afd94c-48ad-4b42-9608-fd339a0304e6",
     "showTitle": false,
     "tableResultSettingsMap": {},
     "title": ""
    }
   },
   "outputs": [],
   "source": [
    "%sql\n",
    "-- Find customers who placed orders above the average order amount.\n",
    "\n",
    "\n",
    "select distinct c.first_name, c.last_name , o.total_amount\n",
    "FROM customers c INNER JOIN orders o ON c.customer_id = o.customer_id WHERE o.total_amount >\n",
    "(\n",
    "SELECT AVG(total_amount) FROM orders\n",
    ")"
   ]
  },
  {
   "cell_type": "code",
   "execution_count": 0,
   "metadata": {
    "application/vnd.databricks.v1+cell": {
     "cellMetadata": {
      "byteLimit": 2048000,
      "implicitDf": true,
      "rowLimit": 10000
     },
     "inputWidgets": {},
     "nuid": "59c971fa-2184-42e5-9d9c-816a92f6d51e",
     "showTitle": false,
     "tableResultSettingsMap": {},
     "title": ""
    }
   },
   "outputs": [],
   "source": [
    "%sql\n",
    "-- List all products that have been sold more than 5 times in total.\n",
    "SELECT\n",
    "od.product_name as PRODUCT_NAME,sum(od.quantity) AS TOTAL_SOLD\n",
    "FROM order_details od GROUP BY od.product_name HAVING SUM(od.quantity) >\n",
    "(SELECT 2)"
   ]
  },
  {
   "cell_type": "code",
   "execution_count": 0,
   "metadata": {
    "application/vnd.databricks.v1+cell": {
     "cellMetadata": {
      "byteLimit": 2048000,
      "implicitDf": true,
      "rowLimit": 10000
     },
     "inputWidgets": {},
     "nuid": "c49409a1-4cb7-4e6d-be0f-8469e82908ca",
     "showTitle": false,
     "tableResultSettingsMap": {},
     "title": ""
    }
   },
   "outputs": [],
   "source": [
    "%sql\n",
    "--  List customers and their total quantity of products ordered.\n",
    "\n",
    "WITH customer_orders AS (\n",
    "    SELECT c.customer_id, c.first_name, SUM(od.quantity) AS total_quantity\n",
    "    FROM customers c\n",
    "    INNER JOIN orders o ON c.customer_id = o.customer_id\n",
    "    INNER JOIN order_details od ON o.order_id = od.order_id\n",
    "    GROUP BY c.customer_id, c.first_name\n",
    ")\n",
    "\n",
    "SELECT * FROM customer_orders WHERE total_quantity>3;\n",
    "     "
   ]
  },
  {
   "cell_type": "code",
   "execution_count": 0,
   "metadata": {
    "application/vnd.databricks.v1+cell": {
     "cellMetadata": {
      "byteLimit": 2048000,
      "implicitDf": true,
      "rowLimit": 10000
     },
     "inputWidgets": {},
     "nuid": "d4abc52f-e810-41b7-9186-ff384f10f86e",
     "showTitle": false,
     "tableResultSettingsMap": {},
     "title": ""
    }
   },
   "outputs": [],
   "source": [
    "%sql\n",
    "--Find products with their total sales revenue (price * quantity).\n",
    "\n",
    "WITH product_sales AS (\n",
    "    SELECT od.product_name, SUM(od.price_each * od.quantity) AS total_revenue\n",
    "    FROM order_details od \n",
    "    GROUP BY 1\n",
    ")\n",
    "\n",
    "SELECT * FROM product_sales WHERE total_revenue > 10000\n"
   ]
  },
  {
   "cell_type": "markdown",
   "metadata": {
    "application/vnd.databricks.v1+cell": {
     "cellMetadata": {},
     "inputWidgets": {},
     "nuid": "60bba027-673d-4137-a4fd-f03779581a56",
     "showTitle": false,
     "tableResultSettingsMap": {},
     "title": ""
    }
   },
   "source": [
    "CASE Statements (SQL IF/ELSE)"
   ]
  },
  {
   "cell_type": "code",
   "execution_count": 0,
   "metadata": {
    "application/vnd.databricks.v1+cell": {
     "cellMetadata": {
      "byteLimit": 2048000,
      "implicitDf": true,
      "rowLimit": 10000
     },
     "inputWidgets": {},
     "nuid": "c61181d4-dc9c-4c30-86c5-5281bbdfa0c9",
     "showTitle": false,
     "tableResultSettingsMap": {},
     "title": ""
    }
   },
   "outputs": [],
   "source": [
    "%sql\n",
    "--Categorize each order as 'Small', 'Medium', 'Large'.\n",
    "\n",
    "\n",
    "WITH categorized_order AS (SELECT o.order_id,o.total_amount, \n",
    "      CASE\n",
    "          WHEN o.total_amount<1000 THEN 'SMALL'\n",
    "          WHEN o.total_amount BETWEEN 1000 and 1500 THEN 'MEDIUM'\n",
    "          ELSE 'LARGE'\n",
    "      END AS ORDER_SIZE \n",
    "\n",
    "\n",
    "FROM orders o \n",
    ")\n",
    "SELECT * FROM categorized_order\n",
    "WHERE order_size = \"LARGE\""
   ]
  },
  {
   "cell_type": "code",
   "execution_count": 0,
   "metadata": {
    "application/vnd.databricks.v1+cell": {
     "cellMetadata": {
      "byteLimit": 2048000,
      "implicitDf": true,
      "rowLimit": 10000
     },
     "inputWidgets": {},
     "nuid": "52e29203-e057-4d92-9f55-9dc009dda968",
     "showTitle": false,
     "tableResultSettingsMap": {},
     "title": ""
    }
   },
   "outputs": [],
   "source": [
    "%sql\n",
    "--Label customers as 'New' or 'Returning' based on order count.\n",
    "\n",
    "\n",
    "SELECT c.first_name, COUNT(o.order_id) AS total_orders,\n",
    "       CASE\n",
    "           WHEN COUNT(o.order_id) = 1 THEN 'New'\n",
    "           WHEN COUNT(o.order_id) > 1 THEN 'Returning'\n",
    "           ELSE 'No Orders'\n",
    "       END AS customer_type\n",
    "FROM customers c\n",
    "LEFT JOIN orders o ON c.customer_id = o.customer_id\n",
    "GROUP BY c.customer_id, c.first_name;"
   ]
  },
  {
   "cell_type": "code",
   "execution_count": 0,
   "metadata": {
    "application/vnd.databricks.v1+cell": {
     "cellMetadata": {
      "byteLimit": 2048000,
      "implicitDf": true,
      "rowLimit": 10000
     },
     "inputWidgets": {},
     "nuid": "6d8eb4c0-de42-4e90-9a2c-850f4b54e75c",
     "showTitle": false,
     "tableResultSettingsMap": {},
     "title": ""
    }
   },
   "outputs": [],
   "source": [
    "%sql\n",
    "\n",
    "SELECT UPPER(c.first_name) AS FIRST_NAME_UPPERCASE FROM customers c"
   ]
  },
  {
   "cell_type": "code",
   "execution_count": 0,
   "metadata": {
    "application/vnd.databricks.v1+cell": {
     "cellMetadata": {
      "byteLimit": 2048000,
      "implicitDf": true,
      "rowLimit": 10000
     },
     "inputWidgets": {},
     "nuid": "ad87ccfe-be0c-4bec-af71-db5849239a66",
     "showTitle": false,
     "tableResultSettingsMap": {},
     "title": ""
    }
   },
   "outputs": [],
   "source": [
    "%sql\n",
    "\n",
    "SELECT LOWER(c.first_name) AS FIRST_NAME_LOWERCASE FROM customers c"
   ]
  },
  {
   "cell_type": "code",
   "execution_count": 0,
   "metadata": {
    "application/vnd.databricks.v1+cell": {
     "cellMetadata": {
      "byteLimit": 2048000,
      "implicitDf": true,
      "rowLimit": 10000
     },
     "inputWidgets": {},
     "nuid": "8102d523-3b29-4eba-9feb-b5c5535a9099",
     "showTitle": false,
     "tableResultSettingsMap": {},
     "title": ""
    }
   },
   "outputs": [],
   "source": [
    "%sql\n",
    "SELECT UPPER(CONCAT(c.first_name, \" \", c.last_name)) AS FULL_NAME FROM customers c"
   ]
  },
  {
   "cell_type": "code",
   "execution_count": 0,
   "metadata": {
    "application/vnd.databricks.v1+cell": {
     "cellMetadata": {
      "byteLimit": 2048000,
      "implicitDf": true,
      "rowLimit": 10000
     },
     "inputWidgets": {},
     "nuid": "f7f3b66e-2f12-4221-b2ee-26b20a58594d",
     "showTitle": false,
     "tableResultSettingsMap": {},
     "title": ""
    }
   },
   "outputs": [],
   "source": [
    "%sql\n",
    "\n",
    "--Extract month of each order & group order by month.\n",
    "\n",
    "SELECT MONTH(o.order_date) AS oder_month, count(o.order_id) AS total_orders \n",
    "FROM orders o \n",
    "GROUP BY MONTH(o.order_date)\n",
    "ORDER BY oder_month"
   ]
  },
  {
   "cell_type": "code",
   "execution_count": 0,
   "metadata": {
    "application/vnd.databricks.v1+cell": {
     "cellMetadata": {
      "byteLimit": 2048000,
      "implicitDf": true,
      "rowLimit": 10000
     },
     "inputWidgets": {},
     "nuid": "e6812710-604a-472d-9b93-76a159824b60",
     "showTitle": false,
     "tableResultSettingsMap": {},
     "title": ""
    }
   },
   "outputs": [],
   "source": [
    "%sql\n",
    "\n",
    "--Extract month of each order & group order by month.\n",
    "\n",
    "SELECT MONTH(o.order_date) AS oder_month, count(o.order_id) AS total_orders \n",
    "FROM orders o \n",
    "GROUP BY 1\n",
    "ORDER BY 1"
   ]
  },
  {
   "cell_type": "code",
   "execution_count": 0,
   "metadata": {
    "application/vnd.databricks.v1+cell": {
     "cellMetadata": {
      "byteLimit": 2048000,
      "implicitDf": true,
      "rowLimit": 10000
     },
     "inputWidgets": {},
     "nuid": "3f8fd42f-6243-457f-be92-17538322e0ce",
     "showTitle": false,
     "tableResultSettingsMap": {},
     "title": ""
    }
   },
   "outputs": [],
   "source": [
    "%sql\n",
    "-- List each customers name + their total spend + spending category.\n",
    "\n",
    "WITH customer_spend AS (\n",
    "    SELECT c.customer_id, CONCAT(c.first_name, ' ', c.last_name) AS full_name,\n",
    "           SUM(od.quantity * od.price_each) AS total_spent\n",
    "    FROM customers c\n",
    "    INNER JOIN orders o ON c.customer_id = o.customer_id\n",
    "    INNER JOIN order_details od ON o.order_id = od.order_id\n",
    "    GROUP BY c.customer_id, c.first_name, c.last_name\n",
    ")\n",
    "\n",
    "SELECT full_name, total_spent,\n",
    "       CASE\n",
    "           WHEN total_spent < 10000 THEN 'Bronze'\n",
    "           WHEN total_spent BETWEEN 10000 AND 20000 THEN 'Silver'\n",
    "           ELSE 'Gold'\n",
    "       END AS customer_tier\n",
    "FROM customer_spend;"
   ]
  }
 ],
 "metadata": {
  "application/vnd.databricks.v1+notebook": {
   "computePreferences": null,
   "dashboards": [],
   "environmentMetadata": {
    "base_environment": "",
    "environment_version": "2"
   },
   "inputWidgetPreferences": null,
   "language": "python",
   "notebookMetadata": {
    "mostRecentlyExecutedCommandWithImplicitDF": {
     "commandId": 7306689610288003,
     "dataframes": [
      "_sqldf"
     ]
    },
    "pythonIndentUnit": 4
   },
   "notebookName": "🧠 SQL_Logic",
   "widgets": {}
  },
  "language_info": {
   "name": "python"
  }
 },
 "nbformat": 4,
 "nbformat_minor": 0
}
