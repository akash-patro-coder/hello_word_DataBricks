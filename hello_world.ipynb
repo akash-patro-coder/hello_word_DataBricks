{
 "cells": [
  {
   "cell_type": "code",
   "execution_count": 0,
   "metadata": {
    "application/vnd.databricks.v1+cell": {
     "cellMetadata": {
      "byteLimit": 2048000,
      "rowLimit": 10000
     },
     "inputWidgets": {},
     "nuid": "695728c0-396f-4e6e-b4e5-1c4d372a22b6",
     "showTitle": false,
     "tableResultSettingsMap": {},
     "title": ""
    }
   },
   "outputs": [],
   "source": [
    "print(\"Hello DataX\")"
   ]
  },
  {
   "cell_type": "markdown",
   "metadata": {
    "application/vnd.databricks.v1+cell": {
     "cellMetadata": {
      "byteLimit": 2048000,
      "rowLimit": 10000
     },
     "inputWidgets": {},
     "nuid": "0dfe45b7-4556-444b-9d5d-c23352c587dc",
     "showTitle": false,
     "tableResultSettingsMap": {},
     "title": ""
    }
   },
   "source": [
    "\n",
    "# Screenshot Output\n",
    "![Hello DataX Screenshot](/Volumes/workspace/default/first_Program_By_Akash/first_Program_By_Akash.png)\n",
    "\n"
   ]
  },
  {
   "cell_type": "code",
   "execution_count": 0,
   "metadata": {
    "application/vnd.databricks.v1+cell": {
     "cellMetadata": {
      "byteLimit": 2048000,
      "rowLimit": 10000
     },
     "inputWidgets": {},
     "nuid": "17eb7fa2-02ad-49ed-b334-1dd0e1acf111",
     "showTitle": false,
     "tableResultSettingsMap": {},
     "title": ""
    }
   },
   "outputs": [],
   "source": [
    "df = (spark.read\n",
    "    .format(\"csv\")\n",
    "    .option(\"header\", \"true\")\n",
    "    .option(\"inferSchema\", \"true\")\n",
    "    .load(\"/Volumes/workspace/default/first_Program_By_Akash/ecommerce_orders.csv\")\n",
    ")\n"
   ]
  },
  {
   "cell_type": "code",
   "execution_count": 0,
   "metadata": {
    "application/vnd.databricks.v1+cell": {
     "cellMetadata": {
      "byteLimit": 2048000,
      "rowLimit": 10000
     },
     "inputWidgets": {},
     "nuid": "1e1c9f16-b49e-47a0-a3f3-bb68167548c8",
     "showTitle": false,
     "tableResultSettingsMap": {},
     "title": ""
    }
   },
   "outputs": [],
   "source": [
    "from pyspark.sql.functions import col, trim, to_date\n",
    "\n",
    "# 1️⃣ Read Bronze (already created earlier)\n",
    "# bronze_df = (spark.read\n",
    "#     .format(\"csv\")\n",
    "#     .option(\"header\", \"true\")\n",
    "#     .option(\"inferSchema\", \"true\")\n",
    "#     .load(\"/Volumes/workspace/default/first_Program_By_Akash/ecommerce_orders.csv\")\n",
    "# )\n",
    "\n",
    "# print(\"====> Bronze Layer Preview\")\n",
    "# bronze_df.show(5)\n",
    "\n",
    "# 2️⃣ Transform → Silver\n",
    "silver_df = (\n",
    "    bronze_df\n",
    "    .withColumn(\"price\", col(\"price\").cast(\"double\"))\n",
    "    .withColumn(\"quantity\", col(\"quantity\").cast(\"int\"))\n",
    "    # Correct date format\n",
    "    .withColumn(\"order_date\", to_date(col(\"order_date\"), \"dd-MM-yyyy\"))\n",
    "    .withColumn(\"status\", trim(col(\"status\")))\n",
    "    .filter(col(\"order_id\").isNotNull())\n",
    "    .filter(col(\"price\") > 0)\n",
    "    .filter(col(\"quantity\") > 0)\n",
    "    .filter(col(\"status\") == \"delivered\")\n",
    ")\n",
    "\n",
    "# silver_df.show(5)\n",
    "\n",
    "print(\"====> Silver Layer Preview\")\n",
    "silver_df.show()\n",
    "\n",
    "# 3️⃣ Write Silver → Delta Table (proper folder, not CSV file)\n",
    "silver_path = \"/Volumes/workspace/default/first_Program_By_Akash/ecommerce_orders_silver\"\n",
    "\n",
    "silver_df.write.format(\"delta\").mode(\"overwrite\").save(silver_path)\n",
    "\n",
    "print(f\"✅ Silver layer created successfully at {silver_path}\")\n"
   ]
  },
  {
   "cell_type": "code",
   "execution_count": 0,
   "metadata": {
    "application/vnd.databricks.v1+cell": {
     "cellMetadata": {
      "byteLimit": 2048000,
      "rowLimit": 10000
     },
     "inputWidgets": {},
     "nuid": "58674356-fb2a-4c20-8ce8-38e86793ec4e",
     "showTitle": false,
     "tableResultSettingsMap": {},
     "title": ""
    }
   },
   "outputs": [],
   "source": [
    "from pyspark.sql.functions import col, sum as _sum, avg, count, to_date, month, year\n",
    "\n",
    "# 1️⃣ Read Silver Delta Table\n",
    "silver_path = \"/Volumes/workspace/default/first_Program_By_Akash/ecommerce_orders_silver\"\n",
    "silver_df = spark.read.format(\"delta\").load(silver_path)\n",
    "\n",
    "# 2️⃣ Transform → Gold (aggregates / business KPIs)\n",
    "gold_df = (\n",
    "    silver_df\n",
    "    # Add year and month for grouping\n",
    "    .withColumn(\"order_year\", year(col(\"order_date\")))\n",
    "    .withColumn(\"order_month\", month(col(\"order_date\")))\n",
    "    # Aggregate revenue and quantity per product per month\n",
    "    .groupBy(\"product_id\", \"order_year\", \"order_month\")\n",
    "    .agg(\n",
    "        _sum(col(\"price\") * col(\"quantity\")).alias(\"total_revenue\"),\n",
    "        _sum(\"quantity\").alias(\"total_quantity\"),\n",
    "        avg(col(\"price\")).alias(\"avg_price\"),\n",
    "        count(\"order_id\").alias(\"total_orders\")\n",
    "    )\n",
    ")\n",
    "\n",
    "print(\"====> Gold Layer Preview\")\n",
    "gold_df.show(10, truncate=False)\n",
    "\n",
    "# 3️⃣ Write Gold → Delta Table (analytics-ready)\n",
    "gold_path = \"/Volumes/workspace/default/first_Program_By_Akash/ecommerce_orders_gold\"\n",
    "\n",
    "gold_df.write.format(\"delta\").mode(\"overwrite\").save(gold_path)\n",
    "\n",
    "print(f\"✅ Gold layer created successfully at {gold_path}\")\n"
   ]
  }
 ],
 "metadata": {
  "application/vnd.databricks.v1+notebook": {
   "computePreferences": null,
   "dashboards": [],
   "environmentMetadata": {
    "base_environment": "",
    "environment_version": "2"
   },
   "inputWidgetPreferences": null,
   "language": "python",
   "notebookMetadata": {
    "pythonIndentUnit": 4
   },
   "notebookName": "hello_world",
   "widgets": {}
  },
  "language_info": {
   "name": "python"
  }
 },
 "nbformat": 4,
 "nbformat_minor": 0
}
