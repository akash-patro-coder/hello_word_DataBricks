{
 "cells": [
  {
   "cell_type": "code",
   "execution_count": 0,
   "metadata": {
    "application/vnd.databricks.v1+cell": {
     "cellMetadata": {
      "byteLimit": 2048000,
      "implicitDf": true,
      "rowLimit": 10000
     },
     "inputWidgets": {},
     "nuid": "e853c8ed-d373-4889-b5e4-a8a9db228234",
     "showTitle": false,
     "tableResultSettingsMap": {},
     "title": ""
    }
   },
   "outputs": [],
   "source": [
    "%sql\n",
    "\n",
    "select *\n",
    "from orders"
   ]
  },
  {
   "cell_type": "code",
   "execution_count": 0,
   "metadata": {
    "application/vnd.databricks.v1+cell": {
     "cellMetadata": {
      "byteLimit": 2048000,
      "implicitDf": true,
      "rowLimit": 10000
     },
     "inputWidgets": {},
     "nuid": "8666cdeb-9a35-49be-8ff3-c8abddf445a3",
     "showTitle": false,
     "tableResultSettingsMap": {},
     "title": ""
    }
   },
   "outputs": [],
   "source": [
    "%sql\n",
    "\n",
    "--Gives each row a unique number based on the order_date.\n",
    "SELECT \n",
    "  order_id, \n",
    "  order_date,\n",
    "  ROW_NUMBER() OVER (ORDER BY order_date) AS row_num\n",
    "FROM orders;\n"
   ]
  },
  {
   "cell_type": "code",
   "execution_count": 0,
   "metadata": {
    "application/vnd.databricks.v1+cell": {
     "cellMetadata": {
      "byteLimit": 2048000,
      "implicitDf": true,
      "rowLimit": 10000
     },
     "inputWidgets": {},
     "nuid": "06972342-a861-4f28-8f44-6a044b77dcaa",
     "showTitle": false,
     "tableResultSettingsMap": {},
     "title": ""
    }
   },
   "outputs": [],
   "source": [
    "%sql\n",
    "-- Real-Life Use Case: Show first product bought by each customer\n",
    "\n",
    "SELECT \n",
    "c.first_name,od.product_name,od.order_id,\n",
    "ROW_NUMBER() OVER(PARTITION BY c.customer_id ORDER BY o.order_date) AS PURCHASE_SEQUENCE\n",
    " FROM customers c\n",
    "JOIN orders o ON c.customer_id = o.customer_id\n",
    "JOIN order_details od ON o.order_id = od.order_id\n",
    "\n",
    "\n",
    "---The First order is that where purchase_sequence=1"
   ]
  },
  {
   "cell_type": "code",
   "execution_count": 0,
   "metadata": {
    "application/vnd.databricks.v1+cell": {
     "cellMetadata": {
      "byteLimit": 2048000,
      "implicitDf": true,
      "rowLimit": 10000
     },
     "inputWidgets": {},
     "nuid": "66d3bdc1-0195-458c-ae4e-e1a9dea65c42",
     "showTitle": false,
     "tableResultSettingsMap": {},
     "title": ""
    }
   },
   "outputs": [],
   "source": [
    "%sql\n",
    "-- Real-Life Use Case: Show first product bought by each customer\n",
    "\n",
    "SELECT \n",
    "c.first_name,od.product_name,od.order_id,\n",
    "ROW_NUMBER() OVER(PARTITION BY c.customer_id ORDER BY o.order_date) AS PURCHASE_SEQUENCE\n",
    " FROM customers c\n",
    "JOIN orders o ON c.customer_id = o.customer_id\n",
    "JOIN order_details od ON o.order_id = od.order_id\n",
    "\n",
    "\n",
    "---The First order is that where purchase_sequence=1"
   ]
  },
  {
   "cell_type": "code",
   "execution_count": 0,
   "metadata": {
    "application/vnd.databricks.v1+cell": {
     "cellMetadata": {
      "byteLimit": 2048000,
      "implicitDf": true,
      "rowLimit": 10000
     },
     "inputWidgets": {},
     "nuid": "fa630699-ac37-495f-b7b4-2ea65a33967f",
     "showTitle": false,
     "tableResultSettingsMap": {},
     "title": ""
    }
   },
   "outputs": [],
   "source": [
    "%sql\n",
    "-- First product/order per customer using DISTINCT order_id\n",
    "SELECT\n",
    "    c.first_name,\n",
    "    o.order_id,\n",
    "    ROW_NUMBER() OVER (\n",
    "        PARTITION BY c.customer_id \n",
    "        ORDER BY o.order_date\n",
    "    ) AS purchase_sequence\n",
    "FROM customers c\n",
    "JOIN orders o ON c.customer_id = o.customer_id\n"
   ]
  },
  {
   "cell_type": "code",
   "execution_count": 0,
   "metadata": {
    "application/vnd.databricks.v1+cell": {
     "cellMetadata": {
      "byteLimit": 2048000,
      "implicitDf": true,
      "rowLimit": 10000
     },
     "inputWidgets": {},
     "nuid": "87d87a0a-4963-4bb7-b60b-cc38046f1396",
     "showTitle": false,
     "tableResultSettingsMap": {},
     "title": ""
    }
   },
   "outputs": [],
   "source": [
    "%sql\n",
    "WITH ranked_orders AS (\n",
    "    SELECT\n",
    "        c.customer_id,\n",
    "        c.first_name,\n",
    "        o.order_id,\n",
    "        ROW_NUMBER() OVER (\n",
    "            PARTITION BY c.customer_id \n",
    "            ORDER BY o.order_date\n",
    "        ) AS purchase_sequence\n",
    "    FROM customers c\n",
    "    JOIN orders o ON c.customer_id = o.customer_id\n",
    ")\n",
    "SELECT *\n",
    "FROM ranked_orders\n",
    "WHERE purchase_sequence = 1;\n"
   ]
  },
  {
   "cell_type": "code",
   "execution_count": 0,
   "metadata": {
    "application/vnd.databricks.v1+cell": {
     "cellMetadata": {
      "byteLimit": 2048000,
      "implicitDf": true,
      "rowLimit": 10000
     },
     "inputWidgets": {},
     "nuid": "9afd7779-7dc9-438b-8339-e9346a3dfb8c",
     "showTitle": false,
     "tableResultSettingsMap": {},
     "title": ""
    }
   },
   "outputs": [],
   "source": [
    "%sql\n",
    "WITH ranked_orders AS (\n",
    "    SELECT\n",
    "        c.customer_id,\n",
    "        c.first_name,\n",
    "        o.order_id,\n",
    "        RANK() OVER (\n",
    "            PARTITION BY c.customer_id \n",
    "            ORDER BY o.order_date\n",
    "        ) AS purchase_sequence\n",
    "    FROM customers c\n",
    "    JOIN orders o ON c.customer_id = o.customer_id\n",
    ")\n",
    "SELECT *\n",
    "FROM ranked_orders\n",
    "WHERE purchase_sequence = 1;\n"
   ]
  },
  {
   "cell_type": "code",
   "execution_count": 0,
   "metadata": {
    "application/vnd.databricks.v1+cell": {
     "cellMetadata": {
      "byteLimit": 2048000,
      "implicitDf": true,
      "rowLimit": 10000
     },
     "inputWidgets": {},
     "nuid": "e4fbfabb-bb41-4fd5-b088-d2136019859a",
     "showTitle": false,
     "tableResultSettingsMap": {},
     "title": ""
    }
   },
   "outputs": [],
   "source": [
    "%sql\n",
    "--RANK()\n",
    "--Ranks rows by quantity; ties get same rank, but gaps are left in the sequence.\n",
    "\n",
    "SELECT product_name,quantity,\n",
    "RANK() OVER(ORDER BY quantity DESC) AS RANKING\n",
    "\n",
    " FROM order_details\n",
    "     "
   ]
  },
  {
   "cell_type": "code",
   "execution_count": 0,
   "metadata": {
    "application/vnd.databricks.v1+cell": {
     "cellMetadata": {
      "byteLimit": 2048000,
      "implicitDf": true,
      "rowLimit": 10000
     },
     "inputWidgets": {},
     "nuid": "8fad2753-34aa-472f-ad69-5cc2aa5ff157",
     "showTitle": false,
     "tableResultSettingsMap": {},
     "title": ""
    }
   },
   "outputs": [],
   "source": [
    "%sql\n",
    "-- Real-Life Use Case: Assign bonus based on best-selling products in each order\n",
    "\n",
    "SELECT \n",
    "order_id,\n",
    "product_name,\n",
    "quantity,\n",
    "RANK() OVER(PARTITION BY order_id ORDER BY quantity DESC) AS RANKING\n",
    "\n",
    " FROM order_details"
   ]
  },
  {
   "cell_type": "code",
   "execution_count": 0,
   "metadata": {
    "application/vnd.databricks.v1+cell": {
     "cellMetadata": {
      "byteLimit": 2048000,
      "implicitDf": true,
      "rowLimit": 10000
     },
     "inputWidgets": {},
     "nuid": "98671dbf-4b06-4eec-bb4d-ca6db43aa0cd",
     "showTitle": false,
     "tableResultSettingsMap": {},
     "title": ""
    }
   },
   "outputs": [],
   "source": [
    "%sql\n",
    "--DENSE_RANK() -->RANK WITHOUT GAPS\n",
    "\n",
    "SELECT \n",
    "  product_name, \n",
    "  quantity,\n",
    "  DENSE_RANK() OVER (ORDER BY quantity DESC) AS DENSE_RANK,\n",
    "  RANK() OVER (ORDER BY quantity DESC) AS RANK\n",
    "FROM order_details;"
   ]
  },
  {
   "cell_type": "code",
   "execution_count": 0,
   "metadata": {
    "application/vnd.databricks.v1+cell": {
     "cellMetadata": {
      "byteLimit": 2048000,
      "implicitDf": true,
      "rowLimit": 10000
     },
     "inputWidgets": {},
     "nuid": "a0b316c2-2afb-443d-8c0e-9b1a668e587f",
     "showTitle": false,
     "tableResultSettingsMap": {},
     "title": ""
    }
   },
   "outputs": [],
   "source": [
    "%sql\n",
    "--  Real-Life Use Case: Label product popularity tiers in clean rank buckets\n",
    "\n",
    "SELECT \n",
    "product_name,\n",
    "SUM(quantity) AS TOTAL_QUANTITY,\n",
    "DENSE_RANK() OVER (ORDER BY SUM(quantity) DESC) AS POPULARITY_RANK\n",
    "FROM order_details\n",
    "GROUP BY 1"
   ]
  },
  {
   "cell_type": "code",
   "execution_count": 0,
   "metadata": {
    "application/vnd.databricks.v1+cell": {
     "cellMetadata": {
      "byteLimit": 2048000,
      "implicitDf": true,
      "rowLimit": 10000
     },
     "inputWidgets": {},
     "nuid": "3d978c6f-15d4-4a48-87b7-8026dfb2952d",
     "showTitle": false,
     "tableResultSettingsMap": {},
     "title": ""
    }
   },
   "outputs": [],
   "source": [
    "%sql\n",
    "--LAG() - COMPARE WITH PREVIOUS ROWS\n",
    "\n",
    "SELECT\n",
    "order_id,order_date,\n",
    "LAG(order_date) OVER(ORDER BY order_date) AS PREVIOUS_ORDER_DATE\n",
    " FROM ORDERS"
   ]
  },
  {
   "cell_type": "code",
   "execution_count": 0,
   "metadata": {
    "application/vnd.databricks.v1+cell": {
     "cellMetadata": {
      "byteLimit": 2048000,
      "implicitDf": true,
      "rowLimit": 10000
     },
     "inputWidgets": {},
     "nuid": "917a7a7c-f524-4a61-9b01-d3e4fa93424c",
     "showTitle": false,
     "tableResultSettingsMap": {},
     "title": ""
    }
   },
   "outputs": [],
   "source": [
    "%sql\n",
    "-- Real-Life Use Case: Analyze customer s order trends (Did they buy more/less?)\n",
    "SELECT \n",
    "  c.first_name, \n",
    "  o.order_id, \n",
    "  od.quantity,\n",
    "  LAG(od.quantity) OVER (PARTITION BY c.customer_id ORDER BY o.order_date) AS previous_quantity\n",
    "FROM customers c\n",
    "JOIN orders o ON c.customer_id = o.customer_id\n",
    "JOIN order_details od ON o.order_id = od.order_id;\n",
    "     \n"
   ]
  },
  {
   "cell_type": "code",
   "execution_count": 0,
   "metadata": {
    "application/vnd.databricks.v1+cell": {
     "cellMetadata": {
      "byteLimit": 2048000,
      "implicitDf": true,
      "rowLimit": 10000
     },
     "inputWidgets": {},
     "nuid": "4efb24fa-e52d-4740-b90f-3b9059cd8cea",
     "showTitle": false,
     "tableResultSettingsMap": {},
     "title": ""
    }
   },
   "outputs": [],
   "source": [
    "%sql\n",
    "--LEAD() - COMPARE WITH NEXT ROWS\n",
    "\n",
    "SELECT\n",
    "order_id,order_date,\n",
    "LEAD(order_date) OVER(ORDER BY order_date) AS NEXT_ORDER_DATE\n",
    " FROM ORDERS\n",
    "     "
   ]
  },
  {
   "cell_type": "code",
   "execution_count": 0,
   "metadata": {
    "application/vnd.databricks.v1+cell": {
     "cellMetadata": {
      "byteLimit": 2048000,
      "implicitDf": true,
      "rowLimit": 10000
     },
     "inputWidgets": {},
     "nuid": "ef02ad23-78af-4c83-9fda-5347f5e7ff75",
     "showTitle": false,
     "tableResultSettingsMap": {},
     "title": ""
    }
   },
   "outputs": [],
   "source": [
    "%sql\n",
    "--Real-Life Use Case: Predict what customers might buy next\n",
    "\n",
    "SELECT \n",
    "  c.first_name, \n",
    "  od.product_name,\n",
    "  LEAD(od.product_name) OVER (PARTITION BY c.customer_id ORDER BY o.order_date) AS possible_next_product\n",
    "FROM customers c\n",
    "JOIN orders o ON c.customer_id = o.customer_id\n",
    "JOIN order_details od ON o.order_id = od.order_id;"
   ]
  },
  {
   "cell_type": "code",
   "execution_count": 0,
   "metadata": {
    "application/vnd.databricks.v1+cell": {
     "cellMetadata": {
      "byteLimit": 2048000,
      "implicitDf": true,
      "rowLimit": 10000
     },
     "inputWidgets": {},
     "nuid": "2bb86e39-0685-462f-b1f5-61a9cd4c144d",
     "showTitle": false,
     "tableResultSettingsMap": {},
     "title": ""
    }
   },
   "outputs": [],
   "source": [
    "%sql\n",
    "--SUM() ---> RUNNING TOTAL OR Cummulative Sum \n",
    "\n",
    "select order_id,product_name,quantity,\n",
    "SUM(quantity) OVER(ORDER BY order_id) AS CUMMULATIVE_SUM\n",
    "from order_details"
   ]
  }
 ],
 "metadata": {
  "application/vnd.databricks.v1+notebook": {
   "computePreferences": null,
   "dashboards": [],
   "environmentMetadata": {
    "base_environment": "",
    "environment_version": "3"
   },
   "inputWidgetPreferences": null,
   "language": "python",
   "notebookMetadata": {
    "mostRecentlyExecutedCommandWithImplicitDF": {
     "commandId": 4711249606794408,
     "dataframes": [
      "_sqldf"
     ]
    },
    "pythonIndentUnit": 4
   },
   "notebookName": "🪟📊 sql-window-functions",
   "widgets": {}
  },
  "language_info": {
   "name": "python"
  }
 },
 "nbformat": 4,
 "nbformat_minor": 0
}
